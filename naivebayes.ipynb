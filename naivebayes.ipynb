{
  "cells": [
    {
      "cell_type": "markdown",
      "metadata": {
        "id": "view-in-github",
        "colab_type": "text"
      },
      "source": [
        "<a href=\"https://colab.research.google.com/github/lyaidyllic/NaiveBayes/blob/main/naivebayes.ipynb\" target=\"_parent\"><img src=\"https://colab.research.google.com/assets/colab-badge.svg\" alt=\"Open In Colab\"/></a>"
      ]
    },
    {
      "cell_type": "markdown",
      "metadata": {
        "id": "KbM3lfwdKYQg"
      },
      "source": [
        "Import Library"
      ]
    },
    {
      "cell_type": "code",
      "source": [
        "from google.colab import drive\n",
        "drive.mount('/content/drive')"
      ],
      "metadata": {
        "colab": {
          "base_uri": "https://localhost:8080/"
        },
        "id": "Ui2Sy4dWgJ0b",
        "outputId": "629b4fb0-a51a-45c0-be3e-84fd185c3d93"
      },
      "execution_count": null,
      "outputs": [
        {
          "output_type": "stream",
          "name": "stdout",
          "text": [
            "Mounted at /content/drive\n"
          ]
        }
      ]
    },
    {
      "cell_type": "code",
      "execution_count": null,
      "metadata": {
        "id": "AI-5czXKuEux"
      },
      "outputs": [],
      "source": [
        "import pandas as pd\n",
        "from sklearn.naive_bayes import GaussianNB\n",
        "from sklearn.model_selection import train_test_split\n",
        "from sklearn.metrics import accuracy_score, precision_score, recall_score, f1_score\n",
        "from sklearn.preprocessing import KBinsDiscretizer\n",
        "from google.colab import files"
      ]
    },
    {
      "cell_type": "markdown",
      "metadata": {
        "id": "GHgBgQyJKh31"
      },
      "source": [
        "Upload dataset dan menampilkan dataset awal"
      ]
    },
    {
      "cell_type": "code",
      "execution_count": null,
      "metadata": {
        "id": "Wf86vnJA_PaX"
      },
      "outputs": [],
      "source": [
        "path = \"/content/drive/MyDrive/Data Mining /student_exam_data_new.csv\"\n",
        "data = pd.read_csv(path)"
      ]
    },
    {
      "cell_type": "markdown",
      "metadata": {
        "id": "IwV_82_tB0XK"
      },
      "source": [
        "Menampilkan dataset"
      ]
    },
    {
      "cell_type": "code",
      "execution_count": null,
      "metadata": {
        "colab": {
          "base_uri": "https://localhost:8080/"
        },
        "id": "S60NfspTBmo0",
        "outputId": "a9ecfdcc-9e57-4443-f7a4-e8514745b0c3"
      },
      "outputs": [
        {
          "output_type": "stream",
          "name": "stdout",
          "text": [
            "     Study Hours  Previous Exam Score  Pass/Fail\n",
            "0       4.370861            81.889703          0\n",
            "1       9.556429            72.165782          1\n",
            "2       7.587945            58.571657          0\n",
            "3       6.387926            88.827701          1\n",
            "4       2.404168            81.083870          0\n",
            "..           ...                  ...        ...\n",
            "495     4.180170            45.494924          0\n",
            "496     6.252905            95.038815          1\n",
            "497     1.699612            48.209118          0\n",
            "498     9.769553            97.014241          1\n",
            "499     9.875897            66.760346          1\n",
            "\n",
            "[500 rows x 3 columns]\n"
          ]
        }
      ],
      "source": [
        "print(data)"
      ]
    },
    {
      "cell_type": "markdown",
      "metadata": {
        "id": "J3QA6Pddb9cy"
      },
      "source": [
        "Diskritisasi Data untuk fitur Study Hours"
      ]
    },
    {
      "cell_type": "code",
      "execution_count": null,
      "metadata": {
        "colab": {
          "base_uri": "https://localhost:8080/"
        },
        "id": "7upRzLAkOB5f",
        "outputId": "b2a9c073-5940-4899-9821-bd2cc4177d3d"
      },
      "outputs": [
        {
          "output_type": "stream",
          "name": "stdout",
          "text": [
            "   Study Hours Study Hours Category\n",
            "0     4.370861                Bin 3\n",
            "1     9.556429                Bin 5\n",
            "2     7.587945                Bin 4\n",
            "3     6.387926                Bin 4\n",
            "4     2.404168                Bin 2\n"
          ]
        }
      ],
      "source": [
        "# Initialize the discretizer\n",
        "discretizer = KBinsDiscretizer(n_bins=5, encode='ordinal', strategy='uniform')\n",
        "\n",
        "# Defining the study hours and the bins based on the estimated range\n",
        "study_hours = [4.370861, 9.556429, 7.587945, 6.387926, 2.404168]\n",
        "study_bins = [0, 2, 4, 6, 8, 10]  # Assuming the range is from 0 to 10 for simplicity\n",
        "study_bin_labels = ['Bin 1', 'Bin 2', 'Bin 3', 'Bin 4', 'Bin 5']\n",
        "\n",
        "# Categorize study hours using the cut function from pandas\n",
        "study_hours_categories = pd.cut(study_hours, bins=study_bins, labels=study_bin_labels, include_lowest=True, right=True)\n",
        "\n",
        "# Create a DataFrame to display study hours and their categories\n",
        "study_hours_df = pd.DataFrame({'Study Hours': study_hours, 'Study Hours Category': study_hours_categories})\n",
        "\n",
        "# Display the DataFrame\n",
        "print(study_hours_df)"
      ]
    },
    {
      "cell_type": "markdown",
      "metadata": {
        "id": "gq0MM7mEcifB"
      },
      "source": [
        "Diskritisasi Data untuk fitur previous exam score"
      ]
    },
    {
      "cell_type": "code",
      "execution_count": null,
      "metadata": {
        "colab": {
          "base_uri": "https://localhost:8080/"
        },
        "id": "EFGwy5ui_HDI",
        "outputId": "776e77d3-571f-4856-d1bc-3908b4b4c93c"
      },
      "outputs": [
        {
          "output_type": "stream",
          "name": "stdout",
          "text": [
            "       Score Category\n",
            "0  81.889703    Bin 4\n",
            "1  72.165782    Bin 3\n",
            "2  58.571657    Bin 2\n",
            "3  88.827701    Bin 5\n",
            "4  81.083870    Bin 4\n"
          ]
        }
      ],
      "source": [
        "# Defining the scores and the bins based on previous analysis\n",
        "scores = [81.889703, 72.165782, 58.571657, 88.827701, 81.083870]\n",
        "bins = [40.28, 52.22, 64.16, 76.10, 88.04, 99.98]  # Including the lower bound of the first bin\n",
        "bin_labels = ['Bin 1', 'Bin 2', 'Bin 3', 'Bin 4', 'Bin 5']\n",
        "\n",
        "# Categorize scores using cut function from pandas\n",
        "score_categories = pd.cut(scores, bins=bins, labels=bin_labels, include_lowest=True, right=True)\n",
        "\n",
        "# Create a DataFrame to display scores and their categories\n",
        "score_df = pd.DataFrame({'Score': scores, 'Category': score_categories})\n",
        "\n",
        "# Display the DataFrame\n",
        "print(score_df)"
      ]
    },
    {
      "cell_type": "code",
      "execution_count": null,
      "metadata": {
        "colab": {
          "base_uri": "https://localhost:8080/"
        },
        "id": "vrTEg7o4OUB6",
        "outputId": "67a7c3dd-f93b-4582-acd1-197afa739b13"
      },
      "outputs": [
        {
          "output_type": "stream",
          "name": "stdout",
          "text": [
            "   Study Hours  Previous Exam Score  Discretized Study Hours  \\\n",
            "0     4.370861            81.889703                      1.0   \n",
            "1     9.556429            72.165782                      4.0   \n",
            "2     7.587945            58.571657                      3.0   \n",
            "3     6.387926            88.827701                      3.0   \n",
            "4     2.404168            81.083870                      0.0   \n",
            "\n",
            "   Discretized Previous Exam Score  \n",
            "0                              3.0  \n",
            "1                              2.0  \n",
            "2                              1.0  \n",
            "3                              4.0  \n",
            "4                              3.0  \n"
          ]
        }
      ],
      "source": [
        "# Apply discretization to the continuous features\n",
        "discretized_scores = discretizer.fit_transform(data[['Study Hours', 'Previous Exam Score']])\n",
        "\n",
        "# Convert the discretized scores to a DataFrame\n",
        "discretized_data = pd.DataFrame(discretized_scores, columns=['Discretized Study Hours', 'Discretized Previous Exam Score'])\n",
        "\n",
        "# Combine original and discretized columns into one DataFrame for display\n",
        "combined_data = pd.concat([data[['Study Hours', 'Previous Exam Score']], discretized_data], axis=1)\n",
        "\n",
        "# Display the combined DataFrame\n",
        "print(combined_data.head())"
      ]
    },
    {
      "cell_type": "markdown",
      "metadata": {
        "id": "uUmZ20AWdBpS"
      },
      "source": [
        "Pembuatan Model Naive Bayes"
      ]
    },
    {
      "cell_type": "code",
      "execution_count": null,
      "metadata": {
        "id": "Fmsll4c6_DVL"
      },
      "outputs": [],
      "source": [
        "# Assuming data is your original DataFrame and you have 'Study Hours' and 'Previous Exam Score' columns to discretize\n",
        "discretizer = KBinsDiscretizer(n_bins=5, encode='ordinal', strategy='uniform')\n",
        "discretized_scores = discretizer.fit_transform(data[['Study Hours', 'Previous Exam Score']])\n",
        "\n",
        "# Now create the DataFrame X\n",
        "X = pd.DataFrame(discretized_scores, columns=['Study Hours', 'Previous Exam Score'])\n",
        "y = data['Pass/Fail']  # Ensure your data has a 'Pass/Fail' column\n",
        "\n",
        "# Now you can split the data into training and testing sets\n",
        "X_train, X_test, y_train, y_test = train_test_split(X, y, test_size=0.9)\n",
        "\n",
        "# Continue with training and predictions\n",
        "nb_classifier = GaussianNB()\n",
        "nb_classifier.fit(X_train, y_train)\n",
        "y_pred = nb_classifier.predict(X_test)"
      ]
    },
    {
      "cell_type": "code",
      "execution_count": null,
      "metadata": {
        "colab": {
          "base_uri": "https://localhost:8080/"
        },
        "id": "VTPs31O3uNUA",
        "outputId": "7554e894-0eba-4202-837b-30a06ad1deea"
      },
      "outputs": [
        {
          "output_type": "stream",
          "name": "stdout",
          "text": [
            "Accuracy of Naive Bayes classifier: 87.56%\n",
            "Precision: 1.00\n",
            "Recall: 0.66\n",
            "F1 Score: 0.80\n"
          ]
        }
      ],
      "source": [
        "# Evaluate the model (Accuracy)\n",
        "accuracy = accuracy_score(y_test, y_pred)\n",
        "print(f'Accuracy of Naive Bayes classifier: {accuracy * 100:.2f}%')\n",
        "\n",
        "# Calculate Precision\n",
        "precision = precision_score(y_test, y_pred)\n",
        "print(f'Precision: {precision:.2f}')\n",
        "\n",
        "# Calculate Recall\n",
        "recall = recall_score(y_test, y_pred)\n",
        "print(f'Recall: {recall:.2f}')\n",
        "\n",
        "# Calculate F1-Score\n",
        "f1 = f1_score(y_test, y_pred)\n",
        "print(f'F1 Score: {f1:.2f}')"
      ]
    },
    {
      "cell_type": "markdown",
      "metadata": {
        "id": "_bUSEfvJhcdh"
      },
      "source": [
        "Implementasi Naive Bayes pada dataset awal yaitu continue"
      ]
    },
    {
      "cell_type": "code",
      "execution_count": null,
      "metadata": {
        "id": "eA1HjcAahdgG"
      },
      "outputs": [],
      "source": [
        "import pandas as pd\n",
        "from sklearn.naive_bayes import GaussianNB\n",
        "from sklearn.model_selection import train_test_split\n",
        "from sklearn.metrics import accuracy_score, precision_score, recall_score, f1_score\n",
        "from google.colab import files\n"
      ]
    },
    {
      "cell_type": "code",
      "execution_count": null,
      "metadata": {
        "colab": {
          "base_uri": "https://localhost:8080/",
          "height": 316
        },
        "id": "CKt0pXEAM69X",
        "outputId": "be91a909-0eec-457d-8cae-ba86bc09e0a2"
      },
      "outputs": [
        {
          "output_type": "display_data",
          "data": {
            "text/plain": [
              "<IPython.core.display.HTML object>"
            ],
            "text/html": [
              "\n",
              "     <input type=\"file\" id=\"files-e468ed83-a2ac-40c3-a24e-11fc2e66080f\" name=\"files[]\" multiple disabled\n",
              "        style=\"border:none\" />\n",
              "     <output id=\"result-e468ed83-a2ac-40c3-a24e-11fc2e66080f\">\n",
              "      Upload widget is only available when the cell has been executed in the\n",
              "      current browser session. Please rerun this cell to enable.\n",
              "      </output>\n",
              "      <script>// Copyright 2017 Google LLC\n",
              "//\n",
              "// Licensed under the Apache License, Version 2.0 (the \"License\");\n",
              "// you may not use this file except in compliance with the License.\n",
              "// You may obtain a copy of the License at\n",
              "//\n",
              "//      http://www.apache.org/licenses/LICENSE-2.0\n",
              "//\n",
              "// Unless required by applicable law or agreed to in writing, software\n",
              "// distributed under the License is distributed on an \"AS IS\" BASIS,\n",
              "// WITHOUT WARRANTIES OR CONDITIONS OF ANY KIND, either express or implied.\n",
              "// See the License for the specific language governing permissions and\n",
              "// limitations under the License.\n",
              "\n",
              "/**\n",
              " * @fileoverview Helpers for google.colab Python module.\n",
              " */\n",
              "(function(scope) {\n",
              "function span(text, styleAttributes = {}) {\n",
              "  const element = document.createElement('span');\n",
              "  element.textContent = text;\n",
              "  for (const key of Object.keys(styleAttributes)) {\n",
              "    element.style[key] = styleAttributes[key];\n",
              "  }\n",
              "  return element;\n",
              "}\n",
              "\n",
              "// Max number of bytes which will be uploaded at a time.\n",
              "const MAX_PAYLOAD_SIZE = 100 * 1024;\n",
              "\n",
              "function _uploadFiles(inputId, outputId) {\n",
              "  const steps = uploadFilesStep(inputId, outputId);\n",
              "  const outputElement = document.getElementById(outputId);\n",
              "  // Cache steps on the outputElement to make it available for the next call\n",
              "  // to uploadFilesContinue from Python.\n",
              "  outputElement.steps = steps;\n",
              "\n",
              "  return _uploadFilesContinue(outputId);\n",
              "}\n",
              "\n",
              "// This is roughly an async generator (not supported in the browser yet),\n",
              "// where there are multiple asynchronous steps and the Python side is going\n",
              "// to poll for completion of each step.\n",
              "// This uses a Promise to block the python side on completion of each step,\n",
              "// then passes the result of the previous step as the input to the next step.\n",
              "function _uploadFilesContinue(outputId) {\n",
              "  const outputElement = document.getElementById(outputId);\n",
              "  const steps = outputElement.steps;\n",
              "\n",
              "  const next = steps.next(outputElement.lastPromiseValue);\n",
              "  return Promise.resolve(next.value.promise).then((value) => {\n",
              "    // Cache the last promise value to make it available to the next\n",
              "    // step of the generator.\n",
              "    outputElement.lastPromiseValue = value;\n",
              "    return next.value.response;\n",
              "  });\n",
              "}\n",
              "\n",
              "/**\n",
              " * Generator function which is called between each async step of the upload\n",
              " * process.\n",
              " * @param {string} inputId Element ID of the input file picker element.\n",
              " * @param {string} outputId Element ID of the output display.\n",
              " * @return {!Iterable<!Object>} Iterable of next steps.\n",
              " */\n",
              "function* uploadFilesStep(inputId, outputId) {\n",
              "  const inputElement = document.getElementById(inputId);\n",
              "  inputElement.disabled = false;\n",
              "\n",
              "  const outputElement = document.getElementById(outputId);\n",
              "  outputElement.innerHTML = '';\n",
              "\n",
              "  const pickedPromise = new Promise((resolve) => {\n",
              "    inputElement.addEventListener('change', (e) => {\n",
              "      resolve(e.target.files);\n",
              "    });\n",
              "  });\n",
              "\n",
              "  const cancel = document.createElement('button');\n",
              "  inputElement.parentElement.appendChild(cancel);\n",
              "  cancel.textContent = 'Cancel upload';\n",
              "  const cancelPromise = new Promise((resolve) => {\n",
              "    cancel.onclick = () => {\n",
              "      resolve(null);\n",
              "    };\n",
              "  });\n",
              "\n",
              "  // Wait for the user to pick the files.\n",
              "  const files = yield {\n",
              "    promise: Promise.race([pickedPromise, cancelPromise]),\n",
              "    response: {\n",
              "      action: 'starting',\n",
              "    }\n",
              "  };\n",
              "\n",
              "  cancel.remove();\n",
              "\n",
              "  // Disable the input element since further picks are not allowed.\n",
              "  inputElement.disabled = true;\n",
              "\n",
              "  if (!files) {\n",
              "    return {\n",
              "      response: {\n",
              "        action: 'complete',\n",
              "      }\n",
              "    };\n",
              "  }\n",
              "\n",
              "  for (const file of files) {\n",
              "    const li = document.createElement('li');\n",
              "    li.append(span(file.name, {fontWeight: 'bold'}));\n",
              "    li.append(span(\n",
              "        `(${file.type || 'n/a'}) - ${file.size} bytes, ` +\n",
              "        `last modified: ${\n",
              "            file.lastModifiedDate ? file.lastModifiedDate.toLocaleDateString() :\n",
              "                                    'n/a'} - `));\n",
              "    const percent = span('0% done');\n",
              "    li.appendChild(percent);\n",
              "\n",
              "    outputElement.appendChild(li);\n",
              "\n",
              "    const fileDataPromise = new Promise((resolve) => {\n",
              "      const reader = new FileReader();\n",
              "      reader.onload = (e) => {\n",
              "        resolve(e.target.result);\n",
              "      };\n",
              "      reader.readAsArrayBuffer(file);\n",
              "    });\n",
              "    // Wait for the data to be ready.\n",
              "    let fileData = yield {\n",
              "      promise: fileDataPromise,\n",
              "      response: {\n",
              "        action: 'continue',\n",
              "      }\n",
              "    };\n",
              "\n",
              "    // Use a chunked sending to avoid message size limits. See b/62115660.\n",
              "    let position = 0;\n",
              "    do {\n",
              "      const length = Math.min(fileData.byteLength - position, MAX_PAYLOAD_SIZE);\n",
              "      const chunk = new Uint8Array(fileData, position, length);\n",
              "      position += length;\n",
              "\n",
              "      const base64 = btoa(String.fromCharCode.apply(null, chunk));\n",
              "      yield {\n",
              "        response: {\n",
              "          action: 'append',\n",
              "          file: file.name,\n",
              "          data: base64,\n",
              "        },\n",
              "      };\n",
              "\n",
              "      let percentDone = fileData.byteLength === 0 ?\n",
              "          100 :\n",
              "          Math.round((position / fileData.byteLength) * 100);\n",
              "      percent.textContent = `${percentDone}% done`;\n",
              "\n",
              "    } while (position < fileData.byteLength);\n",
              "  }\n",
              "\n",
              "  // All done.\n",
              "  yield {\n",
              "    response: {\n",
              "      action: 'complete',\n",
              "    }\n",
              "  };\n",
              "}\n",
              "\n",
              "scope.google = scope.google || {};\n",
              "scope.google.colab = scope.google.colab || {};\n",
              "scope.google.colab._files = {\n",
              "  _uploadFiles,\n",
              "  _uploadFilesContinue,\n",
              "};\n",
              "})(self);\n",
              "</script> "
            ]
          },
          "metadata": {}
        },
        {
          "output_type": "stream",
          "name": "stdout",
          "text": [
            "Saving student_exam_data_new.csv to student_exam_data_new.csv\n",
            "     Study Hours  Previous Exam Score  Pass/Fail\n",
            "0       4.370861            81.889703          0\n",
            "1       9.556429            72.165782          1\n",
            "2       7.587945            58.571657          0\n",
            "3       6.387926            88.827701          1\n",
            "4       2.404168            81.083870          0\n",
            "..           ...                  ...        ...\n",
            "495     4.180170            45.494924          0\n",
            "496     6.252905            95.038815          1\n",
            "497     1.699612            48.209118          0\n",
            "498     9.769553            97.014241          1\n",
            "499     9.875897            66.760346          1\n",
            "\n",
            "[500 rows x 3 columns]\n"
          ]
        }
      ],
      "source": [
        "# Upload the dataset file\n",
        "uploaded = files.upload()\n",
        "\n",
        "# Extract the filename from the uploaded dictionary\n",
        "file_path = next(iter(uploaded))\n",
        "\n",
        "# Load the dataset\n",
        "data = pd.read_csv(file_path)\n",
        "print(data)"
      ]
    },
    {
      "cell_type": "code",
      "execution_count": null,
      "metadata": {
        "colab": {
          "base_uri": "https://localhost:8080/"
        },
        "id": "_UPj2TMhM-1y",
        "outputId": "86685cd8-f5b3-40b2-8358-c7d121ab9042"
      },
      "outputs": [
        {
          "output_type": "stream",
          "name": "stdout",
          "text": [
            "       Study Hours  Previous Exam Score   Pass/Fail\n",
            "count   500.000000           500.000000  500.000000\n",
            "mean      5.487055            68.917084    0.368000\n",
            "std       2.688196            17.129607    0.482744\n",
            "min       1.045554            40.277921    0.000000\n",
            "25%       3.171517            53.745955    0.000000\n",
            "50%       5.618474            68.309294    0.000000\n",
            "75%       7.805124            83.580209    1.000000\n",
            "max       9.936683            99.983060    1.000000\n"
          ]
        }
      ],
      "source": [
        "# Check the DataFrame to ensure it looks as expected\n",
        "print(data.describe())"
      ]
    },
    {
      "cell_type": "code",
      "execution_count": null,
      "metadata": {
        "id": "ya68pNP6NBe0"
      },
      "outputs": [],
      "source": [
        "# Split the data into features and target\n",
        "# Replace 'Pass/Fail' with the actual name of your target column if it's different\n",
        "X = data.drop('Pass/Fail', axis=1)\n",
        "y = data['Pass/Fail']\n",
        "\n",
        "# Split the data into training and testing sets\n",
        "X_train, X_test, y_train, y_test = train_test_split(X, y, test_size=0.2)\n",
        "\n",
        "# Initialize the Gaussian Naive Bayes classifier\n",
        "nb_classifier = GaussianNB()"
      ]
    },
    {
      "cell_type": "code",
      "execution_count": null,
      "metadata": {
        "id": "vAilKCdnNIQv"
      },
      "outputs": [],
      "source": [
        "# Train the classifier\n",
        "nb_classifier.fit(X_train, y_train)\n",
        "\n",
        "# Make predictions\n",
        "y_pred = nb_classifier.predict(X_test)"
      ]
    },
    {
      "cell_type": "code",
      "execution_count": null,
      "metadata": {
        "colab": {
          "base_uri": "https://localhost:8080/"
        },
        "id": "m8RyWeoINMDK",
        "outputId": "ce29d423-50ca-42ba-ebd7-4f436b800e76"
      },
      "outputs": [
        {
          "output_type": "stream",
          "name": "stdout",
          "text": [
            "Accuracy: 95.00%\n",
            "Precision: 1.00\n",
            "Recall: 0.83\n",
            "F1 Score: 0.91\n"
          ]
        }
      ],
      "source": [
        "# Evaluate the model\n",
        "accuracy = accuracy_score(y_test, y_pred)\n",
        "precision = precision_score(y_test, y_pred, average='binary')  # Use 'macro' or 'weighted' for multiclass\n",
        "recall = recall_score(y_test, y_pred, average='binary')\n",
        "f1 = f1_score(y_test, y_pred, average='binary')\n",
        "\n",
        "# Print evaluation metrics\n",
        "print(f'Accuracy: {accuracy * 100:.2f}%')\n",
        "print(f'Precision: {precision:.2f}')\n",
        "print(f'Recall: {recall:.2f}')\n",
        "print(f'F1 Score: {f1:.2f}')"
      ]
    }
  ],
  "metadata": {
    "colab": {
      "provenance": [],
      "include_colab_link": true
    },
    "kernelspec": {
      "display_name": "Python 3",
      "name": "python3"
    },
    "language_info": {
      "name": "python"
    }
  },
  "nbformat": 4,
  "nbformat_minor": 0
}